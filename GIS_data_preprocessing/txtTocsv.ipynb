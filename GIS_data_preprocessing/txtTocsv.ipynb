{
 "cells": [
  {
   "cell_type": "code",
   "execution_count": null,
   "source": [
    "!pip install pandas\r\n",
    "!python3 -V"
   ],
   "outputs": [],
   "metadata": {}
  },
  {
   "cell_type": "code",
   "execution_count": null,
   "source": [
    "import pandas as pd\r\n",
    "pd.set_option('display.max_rows', 10)\r\n",
    "file = pd.read_csv('/mnt/c/sia/DATA-WORK/Apps/ImageQualitySelector/polls/static/cargo/Bicubic_url.txt', delimiter = '\\t', header=None)\r\n",
    "# df = pd.DataFrame(file)\r\n",
    "# df.drop([0], axis=1)\r\n",
    "# df[0]\r\n",
    "df = file.set_index(0) #0,1,2,3... 인덱스 제거\r\n",
    "df\r\n",
    "df.to_csv(\"/mnt/c/sia/DATA-WORK/Apps/ImageQualitySelector/polls/static/cargo/Bicubic2.csv\", mode='w', header=False)"
   ],
   "outputs": [],
   "metadata": {}
  },
  {
   "cell_type": "code",
   "execution_count": null,
   "source": [
    "pd.set_option('display.max_rows', 10)\r\n",
    "file2 = pd.read_csv('/mnt/c/sia/DATA-WORK/Apps/ImageQualitySelector/polls/static/cargo/DASR_url.txt', delimiter = '\\t')\r\n",
    "df2 = pd.DataFrame(file2)\r\n",
    "df2"
   ],
   "outputs": [],
   "metadata": {}
  }
 ],
 "metadata": {
  "orig_nbformat": 4,
  "language_info": {
   "name": "python"
  }
 },
 "nbformat": 4,
 "nbformat_minor": 2
}