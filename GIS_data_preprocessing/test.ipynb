{
 "cells": [
  {
   "cell_type": "code",
   "execution_count": null,
   "source": [
    "print(\"first_commit\")"
   ],
   "outputs": [],
   "metadata": {}
  },
  {
   "cell_type": "code",
   "execution_count": 42,
   "source": [
    "# x 1 0 이면 x 변경 가능\r\n",
    "# 끝에서부터 변경해야함 00으로 만들고\r\n",
    "# 그리고 왼쪽으로 채워넣고 \r\n",
    "# 14 를 예로 들어볼게\r\n",
    "# 1110 -> 1111 -> 1101 -> 1100 -> 0100 -> 0101 -> 0111 -> 0110 -> 0010 -> 0011 ->\r\n",
    "# 0001 -> 0000\r\n",
    "#끝에 2개만 0으로 그니까 11000000000 형태로 만드는 게 우선\r\n",
    "# 110 -> 4개\r\n",
    "# 1100 -> 8개\r\n",
    "# 11000 -> 01000 -> 01001 -> 01011 -> 01010 -> 01110 -> 01111 -> 01110 -> 01100 +8개\r\n",
    "# 16개. 2^4 순서 나옴\r\n",
    "# 110000 -> 2^5 뒤에 0갯수 +1 제곱해주면 됨.\r\n",
    "                        #^연산\r\n",
    "# 1101 -> 1100 까지 1개 0001\r\n",
    "# 1111 -> 1100 까지 2개 0011 //\r\n",
    "# 1110 -> 1100 까지 3개 0010\r\n",
    "# 1010 -> 1100 까지 4개 0110 //\r\n",
    "# 1011 -> 1100 까지 5개 0111 (0110) 4개 0001 1개\r\n",
    "# 1001 -> 1100 까지 6개 0101 \r\n",
    "# 1000 -> 1100 까지 7개 0100  (0110) 4개 0010 (0011) 2개 0001 1개\r\n",
    "                 #  8개 1100 //\r\n",
    "                 #  9개 1101    0001\r\n",
    "                 # 10개 1111\r\n",
    "                 # 11개 1110\r\n",
    "# 11 \r\n",
    "\r\n",
    "#1011\r\n",
    "\r\n",
    "# 넣은 수 2진법으로 만들기\r\n",
    "n = 11\r\n",
    "#232\r\n",
    "#n = bin(n)\r\n",
    "n = format(n, 'b')\r\n",
    "print(len(n))\r\n",
    "print(n)\r\n",
    "i=0\r\n",
    "answer = 0\r\n",
    "total = len(n)\r\n",
    "\r\n",
    "while True:\r\n",
    "    if n[i] == '1' and n[i+1] == '1':\r\n",
    "        i += 2\r\n",
    "        answer += 2**(total-i+1)\r\n",
    "        total -= 2\r\n",
    "        if i == len(n)-1:\r\n",
    "            if n[len(n)-1]=='1':\r\n",
    "                answer +=1\r\n",
    "                break\r\n",
    "            else:\r\n",
    "                break\r\n",
    "    elif n[i] == '1' and n[i+1] == '0':\r\n",
    "        n[i+1] == '1'\r\n",
    "        i += 1\r\n",
    "        answer += 2**(total-i+1)\r\n",
    "        total -= 1\r\n",
    "        if i == len(n)-1:\r\n",
    "            if n[len(n)-1]=='1':\r\n",
    "                answer +=1\r\n",
    "                break\r\n",
    "            else:\r\n",
    "                break\r\n",
    "    elif n[i] == '0' and n[i+1] == '1':\r\n",
    "        i +=1\r\n",
    "        if i == len(n)-1:\r\n",
    "            if n[len(n)-1]=='1':\r\n",
    "                answer +=1\r\n",
    "                break\r\n",
    "            else:\r\n",
    "                break\r\n",
    "    else:\r\n",
    "        i +=2\r\n",
    "        if i == len(n)-1:\r\n",
    "            if n[len(n)-1]=='1':\r\n",
    "                answer +=1\r\n",
    "                break\r\n",
    "            else:\r\n",
    "                break\r\n",
    "print(answer)\r\n"
   ],
   "outputs": [
    {
     "output_type": "stream",
     "name": "stdout",
     "text": [
      "4\n",
      "1011\n"
     ]
    },
    {
     "output_type": "error",
     "ename": "IndexError",
     "evalue": "string index out of range",
     "traceback": [
      "\u001b[1;31m---------------------------------------------------------------------------\u001b[0m",
      "\u001b[1;31mIndexError\u001b[0m                                Traceback (most recent call last)",
      "\u001b[1;32m<ipython-input-42-2e259daa7806>\u001b[0m in \u001b[0;36m<module>\u001b[1;34m\u001b[0m\n\u001b[0;32m     39\u001b[0m \u001b[1;33m\u001b[0m\u001b[0m\n\u001b[0;32m     40\u001b[0m \u001b[1;32mwhile\u001b[0m \u001b[1;32mTrue\u001b[0m\u001b[1;33m:\u001b[0m\u001b[1;33m\u001b[0m\u001b[1;33m\u001b[0m\u001b[0m\n\u001b[1;32m---> 41\u001b[1;33m     \u001b[1;32mif\u001b[0m \u001b[0mn\u001b[0m\u001b[1;33m[\u001b[0m\u001b[0mi\u001b[0m\u001b[1;33m]\u001b[0m \u001b[1;33m==\u001b[0m \u001b[1;34m'1'\u001b[0m \u001b[1;32mand\u001b[0m \u001b[0mn\u001b[0m\u001b[1;33m[\u001b[0m\u001b[0mi\u001b[0m\u001b[1;33m+\u001b[0m\u001b[1;36m1\u001b[0m\u001b[1;33m]\u001b[0m \u001b[1;33m==\u001b[0m \u001b[1;34m'1'\u001b[0m\u001b[1;33m:\u001b[0m\u001b[1;33m\u001b[0m\u001b[1;33m\u001b[0m\u001b[0m\n\u001b[0m\u001b[0;32m     42\u001b[0m         \u001b[0mi\u001b[0m \u001b[1;33m+=\u001b[0m \u001b[1;36m2\u001b[0m\u001b[1;33m\u001b[0m\u001b[1;33m\u001b[0m\u001b[0m\n\u001b[0;32m     43\u001b[0m         \u001b[0manswer\u001b[0m \u001b[1;33m+=\u001b[0m \u001b[1;36m2\u001b[0m\u001b[1;33m**\u001b[0m\u001b[1;33m(\u001b[0m\u001b[0mtotal\u001b[0m\u001b[1;33m-\u001b[0m\u001b[0mi\u001b[0m\u001b[1;33m+\u001b[0m\u001b[1;36m1\u001b[0m\u001b[1;33m)\u001b[0m\u001b[1;33m\u001b[0m\u001b[1;33m\u001b[0m\u001b[0m\n",
      "\u001b[1;31mIndexError\u001b[0m: string index out of range"
     ]
    }
   ],
   "metadata": {}
  },
  {
   "cell_type": "code",
   "execution_count": 21,
   "source": [
    "str = \"abcdecf\"\r\n",
    "print(str.rsplit('c'))\r\n",
    "# print(str.rpartition(\"c\"))"
   ],
   "outputs": [
    {
     "output_type": "stream",
     "name": "stdout",
     "text": [
      "['ab', 'de', 'f']\n"
     ]
    }
   ],
   "metadata": {}
  },
  {
   "cell_type": "code",
   "execution_count": 1,
   "source": [
    "import re\r\n",
    "\r\n",
    "tstring = 'aaa bb 33 aa'\r\n",
    "print(re.findall(\"\\d+\", tstring))"
   ],
   "outputs": [
    {
     "output_type": "stream",
     "name": "stdout",
     "text": [
      "['33']\n"
     ]
    }
   ],
   "metadata": {}
  },
  {
   "cell_type": "markdown",
   "source": [
    "람다(lambda)"
   ],
   "metadata": {}
  },
  {
   "cell_type": "code",
   "execution_count": 32,
   "source": [
    "\r\n",
    "\r\n",
    "# 분석  lambda 인사: 표현식 , 리스트 \r\n",
    "\r\n",
    "# map()\r\n",
    "print(list(map(lambda x: x ** 2, range(5))))\r\n",
    "\r\n",
    "# reduce()\r\n",
    "from functools import reduce\r\n",
    "print(reduce(lambda x, y: x + y, 'abcde'))\r\n",
    "print(reduce(lambda x, y: y + x, 'abcde'))\r\n",
    "print(reduce(lambda x, y: (x,y), 'abcde'))\r\n",
    "print(reduce(lambda x, y: (y,x), 'abcde'))\r\n",
    "\r\n",
    "# filter()\r\n",
    "postfixes=['scenes', 'aaa', '형근', '형근2', '형근3']\r\n",
    "indices = [ '형근', '형근2', '형근3']\r\n",
    "sel_indices =[]\r\n",
    "for postfix in postfixes:\r\n",
    "    sel_indices += list(filter(lambda i: postfix in i, indices))\r\n",
    "print(sel_indices)\r\n",
    "\r\n",
    "aa=[1,2,3,4,5,6,7,8]\r\n",
    "print(list(filter(lambda x: x < 5, range(10)))) \r\n",
    "print(list(filter(lambda x: x < 5, aa)))"
   ],
   "outputs": [
    {
     "output_type": "stream",
     "name": "stdout",
     "text": [
      "[0, 1, 4, 9, 16]\n",
      "abcde\n",
      "edcba\n",
      "(((('a', 'b'), 'c'), 'd'), 'e')\n",
      "('e', ('d', ('c', ('b', 'a'))))\n",
      "['형근', '형근2', '형근3', '형근2', '형근3']\n",
      "[0, 1, 2, 3, 4]\n",
      "[1, 2, 3, 4]\n"
     ]
    }
   ],
   "metadata": {}
  }
 ],
 "metadata": {
  "orig_nbformat": 4,
  "language_info": {
   "name": "python",
   "version": "3.8.10",
   "mimetype": "text/x-python",
   "codemirror_mode": {
    "name": "ipython",
    "version": 3
   },
   "pygments_lexer": "ipython3",
   "nbconvert_exporter": "python",
   "file_extension": ".py"
  },
  "kernelspec": {
   "name": "python3",
   "display_name": "Python 3.8.10 64-bit ('python_38': conda)"
  },
  "interpreter": {
   "hash": "86b40d917a9c044f02321ad8043c3c98ddf9a58b306d7e41e07bbb65ae936a3a"
  }
 },
 "nbformat": 4,
 "nbformat_minor": 2
}