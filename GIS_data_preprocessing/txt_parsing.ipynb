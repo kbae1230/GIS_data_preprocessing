{
 "cells": [
  {
   "cell_type": "code",
   "execution_count": 64,
   "source": [
    "import re\r\n",
    "brow = 'KOMPSAT3A/Browse/33700/33704/K3A_20210503044721_33704_00058213_L0F_br.jpg'\r\n",
    "print(re.sub('_br.jpg','', str(re.findall('K3A.+', brow))))\r\n"
   ],
   "outputs": [
    {
     "output_type": "stream",
     "name": "stdout",
     "text": [
      "['K3A_20210503044721_33704_00058213_L0F']\n"
     ]
    }
   ],
   "metadata": {}
  },
  {
   "cell_type": "code",
   "execution_count": null,
   "source": [
    "# 사내 commit"
   ],
   "outputs": [],
   "metadata": {}
  }
 ],
 "metadata": {
  "orig_nbformat": 4,
  "language_info": {
   "name": "python",
   "version": "3.8.10"
  },
  "kernelspec": {
   "name": "python3",
   "display_name": "Python 3.8.10 64-bit ('python_38': conda)"
  },
  "interpreter": {
   "hash": "86b40d917a9c044f02321ad8043c3c98ddf9a58b306d7e41e07bbb65ae936a3a"
  }
 },
 "nbformat": 4,
 "nbformat_minor": 2
}